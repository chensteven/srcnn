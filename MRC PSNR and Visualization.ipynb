{
 "cells": [
  {
   "cell_type": "markdown",
   "metadata": {},
   "source": [
    "### Load necessary modules"
   ]
  },
  {
   "cell_type": "code",
   "execution_count": 2,
   "metadata": {},
   "outputs": [
    {
     "name": "stdout",
     "output_type": "stream",
     "text": [
      "Collecting package metadata (current_repodata.json): ...working... done\n",
      "Solving environment: ...working... failed with initial frozen solve. Retrying with flexible solve.\n",
      "Collecting package metadata (repodata.json): ...working... done\n",
      "Solving environment: ...working... failed with initial frozen solve. Retrying with flexible solve.\n"
     ]
    },
    {
     "name": "stderr",
     "output_type": "stream",
     "text": [
      "\n",
      "PackagesNotFoundError: The following packages are not available from current channels:\n",
      "\n",
      "  - eqtools\n",
      "\n",
      "Current channels:\n",
      "\n",
      "  - https://repo.anaconda.com/pkgs/main/win-64\n",
      "  - https://repo.anaconda.com/pkgs/main/noarch\n",
      "  - https://repo.anaconda.com/pkgs/r/win-64\n",
      "  - https://repo.anaconda.com/pkgs/r/noarch\n",
      "  - https://repo.anaconda.com/pkgs/msys2/win-64\n",
      "  - https://repo.anaconda.com/pkgs/msys2/noarch\n",
      "  - https://conda.anaconda.org/conda-forge/win-64\n",
      "  - https://conda.anaconda.org/conda-forge/noarch\n",
      "\n",
      "To search for alternate channels that may provide the conda package you're\n",
      "looking for, navigate to\n",
      "\n",
      "    https://anaconda.org\n",
      "\n",
      "and use the search bar at the top of the page.\n",
      "\n",
      "\n"
     ]
    }
   ],
   "source": [
    "!conda install eqtools"
   ]
  },
  {
   "cell_type": "code",
   "execution_count": 1,
   "metadata": {},
   "outputs": [
    {
     "name": "stderr",
     "output_type": "stream",
     "text": [
      "C:\\Users\\chens\\Anaconda3\\envs\\cv\\lib\\site-packages\\scipy\\__init__.py:115: UserWarning: Numpy 1.13.3 or above is required for this version of scipy (detected version 1.11.3)\n",
      "  UserWarning)\n"
     ]
    },
    {
     "ename": "ModuleNotFoundError",
     "evalue": "No module named 'eqtools'",
     "output_type": "error",
     "traceback": [
      "\u001b[1;31m---------------------------------------------------------------------------\u001b[0m",
      "\u001b[1;31mModuleNotFoundError\u001b[0m                       Traceback (most recent call last)",
      "\u001b[1;32m<ipython-input-1-31ed4cdee244>\u001b[0m in \u001b[0;36m<module>\u001b[1;34m\u001b[0m\n\u001b[0;32m      6\u001b[0m \u001b[1;32mfrom\u001b[0m \u001b[0mskimage\u001b[0m \u001b[1;32mimport\u001b[0m \u001b[0mmeasure\u001b[0m\u001b[1;33m\u001b[0m\u001b[0m\n\u001b[0;32m      7\u001b[0m \u001b[1;32mfrom\u001b[0m \u001b[0mPIL\u001b[0m \u001b[1;32mimport\u001b[0m \u001b[0mImage\u001b[0m\u001b[1;33m\u001b[0m\u001b[0m\n\u001b[1;32m----> 8\u001b[1;33m \u001b[1;32mfrom\u001b[0m \u001b[0meqtools\u001b[0m\u001b[1;33m.\u001b[0m\u001b[0mtrispline\u001b[0m \u001b[1;32mimport\u001b[0m \u001b[0mSpline\u001b[0m\u001b[1;33m\u001b[0m\u001b[0m\n\u001b[0m\u001b[0;32m      9\u001b[0m \u001b[0mget_ipython\u001b[0m\u001b[1;33m(\u001b[0m\u001b[1;33m)\u001b[0m\u001b[1;33m.\u001b[0m\u001b[0mrun_line_magic\u001b[0m\u001b[1;33m(\u001b[0m\u001b[1;34m'matplotlib'\u001b[0m\u001b[1;33m,\u001b[0m \u001b[1;34m'inline'\u001b[0m\u001b[1;33m)\u001b[0m\u001b[1;33m\u001b[0m\u001b[0m\n",
      "\u001b[1;31mModuleNotFoundError\u001b[0m: No module named 'eqtools'"
     ]
    }
   ],
   "source": [
    "import mrc\n",
    "import numpy as np\n",
    "import os\n",
    "import scipy\n",
    "import matplotlib.pyplot as plt\n",
    "from skimage import measure\n",
    "from PIL import Image\n",
    "from eqtools.trispline import Spline\n",
    "%matplotlib inline"
   ]
  },
  {
   "cell_type": "markdown",
   "metadata": {},
   "source": [
    "### Load Protein Data"
   ]
  },
  {
   "cell_type": "code",
   "execution_count": 2,
   "metadata": {
    "collapsed": true
   },
   "outputs": [],
   "source": [
    "mrc_lr2 = mrc.readMRC('VSRCNN-lr2_bs80.mrc')\n",
    "mrc_lr3 = mrc.readMRC('VSRCNN-lr3_bs80.mrc')\n",
    "mrc_lr4 = mrc.readMRC('VSRCNN-lr4_bs80.mrc')\n",
    "mrc_lr5 = mrc.readMRC('VSRCNN-lr5_bs80.mrc')"
   ]
  },
  {
   "cell_type": "code",
   "execution_count": 3,
   "metadata": {},
   "outputs": [
    {
     "name": "stdout",
     "output_type": "stream",
     "text": [
      "pdb1a3n.mrc\n",
      "pdb1b0b.mrc\n",
      "pdb1kr7.mrc\n",
      "pdb1mab.mrc\n",
      "pdb1v07.mrc\n",
      "pdb1xz2.mrc\n",
      "pdb2bk9.mrc\n",
      "pdb2gl3.mrc\n",
      "pdb2in4.mrc\n",
      "pdb2r4w.mrc\n",
      "pdb2r4z.mrc\n",
      "pdb2vyy.mrc\n",
      "pdb2xkg-test.mrc\n",
      "pdb2xkg-test2.mrc\n",
      "pdb2xkg.mrc\n",
      "pdb2xki.mrc\n",
      "pdb2z85.mrc\n",
      "pdb2z8a.mrc\n",
      "pdb3a5a.mrc\n",
      "pdb3a5b.mrc\n",
      "pdb3arj.mrc\n",
      "pdb3g4u.mrc\n",
      "pdb3g4y.mrc\n",
      "pdb3g53.mrc\n",
      "pdb3ogb.mrc\n",
      "pdb3qjb.mrc\n",
      "pdb3s5i.mrc\n",
      "pdb3uhb.mrc\n",
      "pdb3uhg.mrc\n",
      "pdb3uhk.mrc\n",
      "pdb3uhq.mrc\n",
      "pdb3uhv.mrc\n",
      "pdb3uhx.mrc\n",
      "pdb3uhz.mrc\n",
      "pdb4f6f.mrc\n",
      "pdb4f6j.mrc\n",
      "pdb4hbi.mrc\n",
      "pdb4hrt.mrc\n",
      "pdb4kjt.mrc\n",
      "pdb4max.mrc\n",
      "pdb5ab8.mrc\n",
      "pdb5hbi.mrc\n",
      "pdb5kd1.mrc\n",
      "pdb5ksi.mrc\n",
      "pdb6hbi.mrc\n"
     ]
    }
   ],
   "source": [
    "files = os.listdir('./mrc_files')\n",
    "path = './mrc_files/'\n",
    "mrc_list = []\n",
    "for f in files:\n",
    "    print f\n",
    "    _mrc = mrc.readMRC(path+f)\n",
    "    mrc_list.append(_mrc)"
   ]
  },
  {
   "cell_type": "markdown",
   "metadata": {},
   "source": [
    "### Compute PSNR between Tricubic interpolation and GT (ground truth)"
   ]
  },
  {
   "cell_type": "code",
   "execution_count": 16,
   "metadata": {},
   "outputs": [],
   "source": [
    "#protein = mrc.readMRC('mrc_files/pdb6hbi.mrc')\n",
    "protein = mrc_list[-1]\n",
    "tricubic = scipy.ndimage.interpolation.zoom(protein, (1./2), prefilter=False)\n",
    "tricubic = scipy.ndimage.interpolation.zoom(tricubic, (2/1.), prefilter=False)"
   ]
  },
  {
   "cell_type": "markdown",
   "metadata": {},
   "source": [
    "#### Shape"
   ]
  },
  {
   "cell_type": "code",
   "execution_count": 17,
   "metadata": {},
   "outputs": [
    {
     "name": "stdout",
     "output_type": "stream",
     "text": [
      "Grount Truth Shape: (110, 110, 110)\n",
      "Tricubic Shape: (110, 110, 110)\n",
      "Learning rate of 10^-2: (110, 110, 110)\n",
      "Learning rate of 10^-3: (110, 110, 110)\n",
      "Learning rate of 10^-4: (110, 110, 110)\n",
      "Learning rate of 10^-5: (110, 110, 110)\n"
     ]
    }
   ],
   "source": [
    "print \"Grount Truth Shape: %s\" % (str(protein.shape))\n",
    "print \"Tricubic Shape: %s\" % (str(tricubic.shape))\n",
    "print \"Learning rate of 10^-2: %s\" % (str(mrc_lr2[8:126-8, 8:126-8, 8:126-8].shape))\n",
    "print \"Learning rate of 10^-3: %s\" % (str(mrc_lr3[8:126-8, 8:126-8, 8:126-8].shape))\n",
    "print \"Learning rate of 10^-4: %s\" % (str(mrc_lr4[8:126-8, 8:126-8, 8:126-8].shape))\n",
    "print \"Learning rate of 10^-5: %s\" % (str(mrc_lr5[8:126-8, 8:126-8, 8:126-8].shape))"
   ]
  },
  {
   "cell_type": "markdown",
   "metadata": {},
   "source": [
    "#### PSNR"
   ]
  },
  {
   "cell_type": "code",
   "execution_count": 18,
   "metadata": {},
   "outputs": [
    {
     "name": "stdout",
     "output_type": "stream",
     "text": [
      "Tricubic: 34.8373562742\n",
      "10^-2:    32.7299477294\n",
      "10^-3:    32.4688241638\n",
      "10^-4:    33.0724873402\n",
      "10^-5:    33.1701529612\n"
     ]
    }
   ],
   "source": [
    "print \"Tricubic: %s\" % measure.compare_psnr(protein, tricubic[:,:, :], data_range=15.724161)\n",
    "print \"10^-2:    %s\" % measure.compare_psnr(protein, mrc_lr2[8:126-8, 8:126-8, 8:126-8], data_range=15.724161)\n",
    "print \"10^-3:    %s\" % measure.compare_psnr(protein, mrc_lr3[8:126-8, 8:126-8, 8:126-8], data_range=15.724161)\n",
    "print \"10^-4:    %s\" % measure.compare_psnr(protein, mrc_lr4[8:126-8, 8:126-8, 8:126-8], data_range=15.724161)\n",
    "print \"10^-5:    %s\" % measure.compare_psnr(protein, mrc_lr5[8:126-8, 8:126-8, 8:126-8], data_range=15.724161)"
   ]
  },
  {
   "cell_type": "markdown",
   "metadata": {},
   "source": [
    "\n",
    "### Plot "
   ]
  },
  {
   "cell_type": "code",
   "execution_count": 22,
   "metadata": {},
   "outputs": [
    {
     "data": {
      "text/plain": [
       "<matplotlib.text.Text at 0x1345b7690>"
      ]
     },
     "execution_count": 22,
     "metadata": {},
     "output_type": "execute_result"
    },
    {
     "data": {
      "image/png": "[encoded data removed]",
      "text/plain": [
       "<matplotlib.figure.Figure at 0x13436f290>"
      ]
     },
     "metadata": {},
     "output_type": "display_data"
    }
   ],
   "source": [
    "vmin_orig = protein.min()\n",
    "vmax_orig = protein.max()\n",
    "vmin = vmin_orig + 0*(vmax_orig-vmin_orig)\n",
    "vmax = vmax_orig - 0.1*(vmax_orig-vmin_orig)\n",
    "\n",
    "fig = plt.figure(figsize=(17, 5))\n",
    "ax1 = plt.subplot(1, 4, 1)\n",
    "ax2 = plt.subplot(1, 4, 2)\n",
    "ax3 = plt.subplot(1, 4, 3)\n",
    "ax1.imshow(mrc_lr5[8:126-8, 8:126-8, 8:126-8][mrc_lr5[8:126-8, 8:126-8, 8:126-8].shape[0]/2, :, :],vmin=vmin,vmax=vmax)\n",
    "ax1.set_title(\"Learning rate of 10^-5\")\n",
    "ax2.imshow(tricubic[tricubic.shape[0]/2, :, :],vmin=vmin,vmax=vmax)\n",
    "ax2.set_title(\"Tricubic Interpolation with scale of 2\")\n",
    "ax3.imshow(protein[protein.shape[0]/2, :, :],vmin=vmin,vmax=vmax)\n",
    "ax3.set_title(\"Ground Truth\")"
   ]
  },
  {
   "cell_type": "code",
   "execution_count": null,
   "metadata": {
    "collapsed": true
   },
   "outputs": [],
   "source": []
  }
 ],
 "metadata": {
  "kernelspec": {
   "display_name": "CV",
   "language": "python",
   "name": "cv"
  },
  "language_info": {
   "codemirror_mode": {
    "name": "ipython",
    "version": 3
   },
   "file_extension": ".py",
   "mimetype": "text/x-python",
   "name": "python",
   "nbconvert_exporter": "python",
   "pygments_lexer": "ipython3",
   "version": "3.6.4"
  }
 },
 "nbformat": 4,
 "nbformat_minor": 2
}
